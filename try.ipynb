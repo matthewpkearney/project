{
 "cells": [
  {
   "cell_type": "code",
   "execution_count": null,
   "metadata": {},
   "outputs": [],
   "source": [
    "# automated feature selection\n",
    "\n",
    "# from scipy select \"k-best\"\n",
    "# selector = SelectKBest(score_func=chi2, k=10)\n",
    "# X_new = selector.fit_transform(X, y)\n",
    "\n"
   ]
  },
  {
   "cell_type": "code",
   "execution_count": 1,
   "metadata": {},
   "outputs": [
    {
     "name": "stdout",
     "output_type": "stream",
     "text": [
      "Spearman's correlation coefficient (X, y): 0.9999999999999999\n",
      "Spearman's correlation coefficient (X, z): 0.7999999999999999\n",
      "Kendall's tau coefficient (X, y): 0.9999999999999999\n",
      "Kendall's tau coefficient (X, z): 0.6\n"
     ]
    }
   ],
   "source": [
    "import numpy as np\n",
    "from scipy.stats import spearmanr, kendalltau\n",
    "\n",
    "# Example data\n",
    "X = np.array([1, 2, 3, 4, 5])\n",
    "y = np.array([2, 4, 6, 8, 10])  # Perfectly linear relationship\n",
    "z = np.array([1, 3, 2, 5, 4])   # Non-linear relationship\n",
    "\n",
    "# Compute Spearman's rank correlation coefficient\n",
    "spearman_corr_xy, _ = spearmanr(X, y)\n",
    "spearman_corr_xz, _ = spearmanr(X, z)\n",
    "\n",
    "print(\"Spearman's correlation coefficient (X, y):\", spearman_corr_xy)\n",
    "print(\"Spearman's correlation coefficient (X, z):\", spearman_corr_xz)\n",
    "\n",
    "# Compute Kendall's tau coefficient\n",
    "kendall_tau_xy, _ = kendalltau(X, y)\n",
    "kendall_tau_xz, _ = kendalltau(X, z)\n",
    "\n",
    "print(\"Kendall's tau coefficient (X, y):\", kendall_tau_xy)\n",
    "print(\"Kendall's tau coefficient (X, z):\", kendall_tau_xz)"
   ]
  },
  {
   "cell_type": "code",
   "execution_count": null,
   "metadata": {},
   "outputs": [],
   "source": [
    "# takes too long\n",
    "# from pandas.plotting import scatter_matrix\n",
    "\n",
    "# scatter_matrix(df[df.columns.tolist()], figsize=(12,8))\n",
    "# plt.show()\n",
    "\n",
    "\n",
    "\n",
    "# takes too much space\n",
    "\n",
    "# for i in column_labels:\n",
    "#     plt.title(i)\n",
    "#     plt.scatter(df[i], y)\n",
    "#     plt.show()\n",
    "\n",
    "# print(len(df[column_labels[0]]))\n",
    "# print(len(y))\n",
    "# plt.scatter(df[column_labels[0]], y)\n",
    "# plt.show()"
   ]
  },
  {
   "cell_type": "code",
   "execution_count": null,
   "metadata": {},
   "outputs": [],
   "source": [
    "# takes too long..\n",
    "# import seaborn as sns\n",
    " \n",
    "# data = df[df.columns.tolist()]\n",
    "# sns.pairplot(data)"
   ]
  },
  {
   "cell_type": "code",
   "execution_count": null,
   "metadata": {},
   "outputs": [],
   "source": [
    "# computes half the triangle..\n",
    "\n",
    "# cols = df.shape[1]\n",
    "# flds = list(df.columns)\n",
    "\n",
    "# corr = df.corr().values\n",
    "# for i in range(cols):\n",
    "#     for j in range(i+1, cols):\n",
    "#         if corr[i,j] > 0.7:\n",
    "#             print(flds[i], ' ', flds[j], ' ', corr[i,j])"
   ]
  },
  {
   "cell_type": "code",
   "execution_count": null,
   "metadata": {},
   "outputs": [],
   "source": [
    "# qq plot\n",
    "\n",
    "# import statsmodels.api as sm\n",
    "\n",
    "# for i in column_labels:\n",
    "#     sm.qqplot(df[dict[i]])\n",
    "\n",
    "# plt.show()"
   ]
  }
 ],
 "metadata": {
  "kernelspec": {
   "display_name": "base",
   "language": "python",
   "name": "python3"
  },
  "language_info": {
   "codemirror_mode": {
    "name": "ipython",
    "version": 3
   },
   "file_extension": ".py",
   "mimetype": "text/x-python",
   "name": "python",
   "nbconvert_exporter": "python",
   "pygments_lexer": "ipython3",
   "version": "3.11.5"
  }
 },
 "nbformat": 4,
 "nbformat_minor": 2
}
