{
 "cells": [
  {
   "cell_type": "code",
   "execution_count": 1,
   "metadata": {},
   "outputs": [
    {
     "name": "stdout",
     "output_type": "stream",
     "text": [
      "Spearman's correlation coefficient (X, y): 0.9999999999999999\n",
      "Spearman's correlation coefficient (X, z): 0.7999999999999999\n",
      "Kendall's tau coefficient (X, y): 0.9999999999999999\n",
      "Kendall's tau coefficient (X, z): 0.6\n"
     ]
    }
   ],
   "source": [
    "# select \"k-best\"\n",
    "\n",
    "# selector = SelectKBest(score_func=chi2, k=10)\n",
    "# X_new = selector.fit_transform(X, y)\n",
    "\n",
    "import numpy as np\n",
    "from scipy.stats import spearmanr, kendalltau\n",
    "\n",
    "# Example data\n",
    "X = np.array([1, 2, 3, 4, 5])\n",
    "y = np.array([2, 4, 6, 8, 10])  # Perfectly linear relationship\n",
    "z = np.array([1, 3, 2, 5, 4])   # Non-linear relationship\n",
    "\n",
    "# Compute Spearman's rank correlation coefficient\n",
    "spearman_corr_xy, _ = spearmanr(X, y)\n",
    "spearman_corr_xz, _ = spearmanr(X, z)\n",
    "\n",
    "print(\"Spearman's correlation coefficient (X, y):\", spearman_corr_xy)\n",
    "print(\"Spearman's correlation coefficient (X, z):\", spearman_corr_xz)\n",
    "\n",
    "# Compute Kendall's tau coefficient\n",
    "kendall_tau_xy, _ = kendalltau(X, y)\n",
    "kendall_tau_xz, _ = kendalltau(X, z)\n",
    "\n",
    "print(\"Kendall's tau coefficient (X, y):\", kendall_tau_xy)\n",
    "print(\"Kendall's tau coefficient (X, z):\", kendall_tau_xz)"
   ]
  }
 ],
 "metadata": {
  "kernelspec": {
   "display_name": "base",
   "language": "python",
   "name": "python3"
  },
  "language_info": {
   "codemirror_mode": {
    "name": "ipython",
    "version": 3
   },
   "file_extension": ".py",
   "mimetype": "text/x-python",
   "name": "python",
   "nbconvert_exporter": "python",
   "pygments_lexer": "ipython3",
   "version": "3.11.5"
  }
 },
 "nbformat": 4,
 "nbformat_minor": 2
}
